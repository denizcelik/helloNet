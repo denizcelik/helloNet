{
 "cells": [
  {
   "cell_type": "markdown",
   "metadata": {},
   "source": [
    "# helloNet - Creating Image Classification Dataset"
   ]
  },
  {
   "cell_type": "markdown",
   "metadata": {},
   "source": [
    "Demo script: Explains how to create an image dataset with helloNet"
   ]
  },
  {
   "cell_type": "markdown",
   "metadata": {},
   "source": [
    "## 1- Create a Dataset"
   ]
  },
  {
   "cell_type": "markdown",
   "metadata": {},
   "source": [
    "### 1.1- Folder Structure"
   ]
  },
  {
   "cell_type": "markdown",
   "metadata": {},
   "source": [
    "In order to use \"create_image_classification_dataset\" function, the directory path of image collection must be defined as a string variable.\n",
    "\n",
    "\n",
    "The function gets the path and use it to create datasets in HDF5 format. Then, creates a folder with \"dataset-\" prefix in same directory and puts the dataset files in it.\n",
    "\n",
    "\n",
    "The folder structure should be as shown in the left diagram.\n",
    "When you run the function, it will create \"dataset-\" folder and its dataset elements like as shown in the right diagram:\n",
    "\n",
    "\n",
    "\n",
    "![alt text](helloNet/diagrams/pre-post-create-diagram.jpg \"Folder structure before and after create\") "
   ]
  },
  {
   "cell_type": "markdown",
   "metadata": {},
   "source": [
    "### 1.2- Run the Function"
   ]
  },
  {
   "cell_type": "code",
   "execution_count": 7,
   "metadata": {},
   "outputs": [],
   "source": [
    "from helloNet.datasets import create_image_classification_dataset, load_image_classification_dataset\n",
    "\n",
    "import matplotlib.pyplot as plt\n",
    "import numpy as np"
   ]
  },
  {
   "cell_type": "code",
   "execution_count": 8,
   "metadata": {},
   "outputs": [
    {
     "name": "stdout",
     "output_type": "stream",
     "text": [
      "The Processing Log:\n",
      "\n",
      "Importing dataset...\n",
      "*green light... tik... tok... red light...*\n",
      "Eleminating broken files.\n",
      "File eleminated: Dog - 9188.jpg\n",
      "File eleminated: Dog - 6238.jpg\n",
      "File eleminated: Dog - 5604.jpg\n",
      "File eleminated: Dog - 3288.jpg\n",
      "File eleminated: Dog - 11285.jpg\n",
      "File eleminated: Dog - 7133.jpg\n",
      "File eleminated: Dog - 1866.jpg\n",
      "File eleminated: Dog - 9078.jpg\n",
      "File eleminated: Dog - 2688.jpg\n",
      "File eleminated: Dog - 3588.jpg\n",
      "File eleminated: Dog - 1259.jpg\n",
      "File eleminated: Dog - 5736.jpg\n",
      "File eleminated: Dog - 10747.jpg\n",
      "File eleminated: Dog - 1789.jpg\n",
      "File eleminated: Dog - 10797.jpg\n",
      "File eleminated: Dog - 8730.jpg\n",
      "File eleminated: Dog - 6245.jpg\n",
      "File eleminated: Dog - 2384.jpg\n",
      "File eleminated: Dog - 6059.jpg\n",
      "File eleminated: Dog - 10401.jpg\n",
      "File eleminated: Dog - 11675.jpg\n",
      "File eleminated: Dog - 11410.jpg\n",
      "File eleminated: Dog - 1773.jpg\n",
      "File eleminated: Dog - 2877.jpg\n",
      "File eleminated: Dog - 10158.jpg\n",
      "File eleminated: Dog - 7459.jpg\n",
      "File eleminated: Dog - 1308.jpg\n",
      "File eleminated: Dog - 7969.jpg\n",
      "File eleminated: Dog - 7112.jpg\n",
      "File eleminated: Dog - 6318.jpg\n",
      "File eleminated: Dog - 11849.jpg\n",
      "File eleminated: Dog - 6718.jpg\n",
      "File eleminated: Dog - 11853.jpg\n",
      "File eleminated: Dog - 7369.jpg\n",
      "File eleminated: Dog - 4367.jpg\n",
      "File eleminated: Dog - 7514.jpg\n",
      "File eleminated: Dog - 3136.jpg\n",
      "File eleminated: Dog - 3823.jpg\n",
      "File eleminated: Cat - 5553.jpg\n",
      "File eleminated: Cat - 6435.jpg\n",
      "File eleminated: Cat - 10125.jpg\n",
      "File eleminated: Cat - 10820.jpg\n",
      "File eleminated: Cat - 2663.jpg\n",
      "File eleminated: Cat - 8470.jpg\n",
      "File eleminated: Cat - 140.jpg\n",
      "File eleminated: Cat - 3300.jpg\n",
      "File eleminated: Cat - 9171.jpg\n",
      "File eleminated: Cat - 3491.jpg\n",
      "File eleminated: Cat - 11095.jpg\n",
      "File eleminated: Cat - 11565.jpg\n",
      "File eleminated: Cat - 11210.jpg\n",
      "File eleminated: Cat - 5370.jpg\n",
      "File eleminated: Cat - 7276.jpg\n",
      "File eleminated: Cat - 660.jpg\n",
      "File eleminated: Cat - 10501.jpg\n",
      "File eleminated: Cat - 9778.jpg\n",
      "File eleminated: Cat - 7968.jpg\n",
      "File eleminated: Cat - 5686.jpg\n",
      "File eleminated: Cat - 7978.jpg\n",
      "File eleminated: Cat - 11935.jpg\n",
      "File eleminated: Cat - 11874.jpg\n",
      "File eleminated: Cat - 9565.jpg\n",
      "File eleminated: Cat - 4833.jpg\n",
      "File eleminated: Cat - 936.jpg\n",
      "File eleminated: Cat - 850.jpg\n",
      "File eleminated: Cat - 12080.jpg\n",
      "File eleminated: Cat - 2939.jpg\n",
      "\n",
      "Classes of The Dataset: ['Dog', 'Cat']\n",
      "Data Input Size: 24999 files\n",
      "Dataset Size: 24931 images\n",
      "Detected broken files: 68\n",
      "Shuffled randomly.\n",
      "path_root_parent helloNet/datasets/\n",
      "Split index-1: 17451\n",
      "Split index-2: 22437\n",
      "\n",
      "Shapes:\n",
      "Train set:\t (17451, 64, 64, 3)\n",
      "Train labels:\t (1, 17451)\n",
      "Val. set:\t (4986, 64, 64, 3)\n",
      "Val. labes:\t (1, 4986)\n",
      "Test set:\t (2494, 64, 64, 3)\n",
      "Test labes:\t (1, 2494)\n",
      "\n",
      "Dataset files created.\n",
      "You can find your dataset files in 'dataset-cats_and_dogs' directory.\n",
      "Broken files log created.\n",
      "You can find the log file in 'dataset-cats_and_dogs' directory.\n",
      "Execution time: 2 mins. 13 secs.\n"
     ]
    }
   ],
   "source": [
    "path_root = \"helloNet/datasets/cats_and_dogs\"\n",
    "size_sample_px = 64\n",
    "ratio_split_val = 0.2\n",
    "ratio_split_test = 0.1\n",
    "\n",
    "create_image_classification_dataset(path_root, size_sample_px, ratio_split_test, ratio_split_val)"
   ]
  },
  {
   "cell_type": "markdown",
   "metadata": {},
   "source": [
    "## 2- Load a Dataset (Optional)"
   ]
  },
  {
   "cell_type": "markdown",
   "metadata": {},
   "source": [
    "In order to load the dataset that we created before, we can use \"load_image_classification_dataset\" function.\n",
    "\n",
    "\n",
    "To do this, the full path of dataset folder must be defined as a string variable.\n"
   ]
  },
  {
   "cell_type": "code",
   "execution_count": null,
   "metadata": {},
   "outputs": [],
   "source": [
    "full_path_of_my_dataset = \"/home/MyName/Desktop/MyEnvironment/saved_datasets/dataset-cats_and_dogs\""
   ]
  },
  {
   "cell_type": "markdown",
   "metadata": {},
   "source": [
    "Alternatively, we can use the relative path of dataset folder (But it can be risky, it can cause path issues for different operating systems.) "
   ]
  },
  {
   "cell_type": "code",
   "execution_count": 3,
   "metadata": {},
   "outputs": [],
   "source": [
    "relative_path_of_my_dataset = \"saved_datasets/dataset-cats_and_dogs_128\""
   ]
  },
  {
   "cell_type": "markdown",
   "metadata": {},
   "source": [
    "Finally, we can run the function. It returns a dictionary which contains dataset arrays in \"ndarray\" format."
   ]
  },
  {
   "cell_type": "code",
   "execution_count": 4,
   "metadata": {},
   "outputs": [
    {
     "name": "stdout",
     "output_type": "stream",
     "text": [
      "Imported: test_cats_and_dogs_128.h5\n",
      "Imported: train_cats_and_dogs_128.h5\n",
      "Imported: val_cats_and_dogs_128.h5\n",
      "Imported: classes_cats_and_dogs_128.h5\n",
      "\n",
      "Class names: [b'Dog' b'Cat'] and Shape: (2,)\n",
      "Test Set - Size: 2494\t- Shapes: X_test:\t(2494, 128, 128, 3),\tLabels (Y_test): (1, 2494)\n",
      "Train Set - Size: 17451\t- Shapes: X_train:\t(17451, 128, 128, 3),\tLabels (Y_train): (1, 17451)\n",
      "Val Set - Size: 4986\t- Shapes: X_val:\t(4986, 128, 128, 3),\tLabels (Y_val): (1, 4986)\n",
      "\n",
      "Returned: X_test, Y_test, X_train, Y_train, X_val, Y_val, classes in a dictionary\n"
     ]
    }
   ],
   "source": [
    "dataset = load_image_classification_dataset(path_full=relative_path_of_my_dataset)"
   ]
  },
  {
   "cell_type": "markdown",
   "metadata": {},
   "source": [
    "We can get dataset elements by unpacking the returned variable."
   ]
  },
  {
   "cell_type": "code",
   "execution_count": 5,
   "metadata": {},
   "outputs": [],
   "source": [
    "x_train = dataset[\"X_train\"]\n",
    "y_train = dataset[\"Y_train\"]\n",
    "x_val = dataset[\"X_val\"]\n",
    "y_val = dataset[\"Y_val\"]\n",
    "x_test = dataset[\"X_test\"]\n",
    "y_test = dataset[\"Y_test\"]\n",
    "classes = dataset[\"classes\"]"
   ]
  },
  {
   "cell_type": "markdown",
   "metadata": {},
   "source": [
    "Additional Note: The class names in \"classes\" list variable will be encoded \"bytes\" object format. When we get them as a string, we need to decode as \"utf-8\" format. "
   ]
  },
  {
   "cell_type": "code",
   "execution_count": 6,
   "metadata": {},
   "outputs": [
    {
     "name": "stdout",
     "output_type": "stream",
     "text": [
      "[b'cat' b'dog']\n"
     ]
    }
   ],
   "source": [
    "print(classes)"
   ]
  },
  {
   "cell_type": "code",
   "execution_count": 7,
   "metadata": {},
   "outputs": [
    {
     "name": "stdout",
     "output_type": "stream",
     "text": [
      "cat\n"
     ]
    }
   ],
   "source": [
    "print(classes[0].decode(\"utf-8\"))"
   ]
  },
  {
   "cell_type": "markdown",
   "metadata": {},
   "source": [
    "## 3- Show random examples from loaded datasets (Optional)"
   ]
  },
  {
   "cell_type": "markdown",
   "metadata": {},
   "source": [
    "### 3.1- Train Set"
   ]
  },
  {
   "cell_type": "code",
   "execution_count": 8,
   "metadata": {},
   "outputs": [
    {
     "name": "stdout",
     "output_type": "stream",
     "text": [
      "class: dog\n"
     ]
    },
    {
     "data": {
      "text/plain": [
       "<matplotlib.image.AxesImage at 0x7f4e5d51fe50>"
      ]
     },
     "execution_count": 8,
     "metadata": {},
     "output_type": "execute_result"
    },
    {
     "data": {
      "image/png": "[encoded data removed]",
      "text/plain": [
       "<Figure size 432x288 with 1 Axes>"
      ]
     },
     "metadata": {
      "needs_background": "light"
     },
     "output_type": "display_data"
    }
   ],
   "source": [
    "rand_ind_train = np.random.randint(x_train.shape[0])\n",
    "print(\"class:\",classes[y_train[0,rand_ind_train]].decode(\"utf-8\"))\n",
    "plt.imshow(x_train[rand_ind_train])"
   ]
  },
  {
   "cell_type": "markdown",
   "metadata": {},
   "source": [
    "### 3.2- Validation Set"
   ]
  },
  {
   "cell_type": "code",
   "execution_count": 9,
   "metadata": {},
   "outputs": [
    {
     "name": "stdout",
     "output_type": "stream",
     "text": [
      "Class type: cat\n"
     ]
    },
    {
     "data": {
      "text/plain": [
       "<matplotlib.image.AxesImage at 0x7f4e5ccfdd30>"
      ]
     },
     "execution_count": 9,
     "metadata": {},
     "output_type": "execute_result"
    },
    {
     "data": {
      "image/png": "[encoded data removed]",
      "text/plain": [
       "<Figure size 432x288 with 1 Axes>"
      ]
     },
     "metadata": {
      "needs_background": "light"
     },
     "output_type": "display_data"
    }
   ],
   "source": [
    "rand_ind_val = np.random.randint(x_val.shape[0])\n",
    "print(\"Class type:\",classes[y_val[0,rand_ind_val]].decode(\"utf-8\"))\n",
    "plt.imshow(x_val[rand_ind_val])"
   ]
  },
  {
   "cell_type": "markdown",
   "metadata": {},
   "source": [
    "### 3.3- Test Set"
   ]
  },
  {
   "cell_type": "code",
   "execution_count": 10,
   "metadata": {},
   "outputs": [
    {
     "name": "stdout",
     "output_type": "stream",
     "text": [
      "class: dog\n"
     ]
    },
    {
     "data": {
      "text/plain": [
       "<matplotlib.image.AxesImage at 0x7f4e5d556910>"
      ]
     },
     "execution_count": 10,
     "metadata": {},
     "output_type": "execute_result"
    },
    {
     "data": {
      "image/png": "[encoded data removed]",
      "text/plain": [
       "<Figure size 432x288 with 1 Axes>"
      ]
     },
     "metadata": {
      "needs_background": "light"
     },
     "output_type": "display_data"
    }
   ],
   "source": [
    "rand_ind_test = np.random.randint(x_test.shape[0])\n",
    "print(\"class:\",classes[y_test[0,rand_ind_test]].decode(\"utf-8\"))\n",
    "plt.imshow(x_test[rand_ind_test])"
   ]
  },
  {
   "cell_type": "code",
   "execution_count": null,
   "metadata": {},
   "outputs": [],
   "source": []
  }
 ],
 "metadata": {
  "interpreter": {
   "hash": "768c44a10e5607d8b4a28997665b9be5502d602c3793081f1c6e14a3f23b79fe"
  },
  "kernelspec": {
   "display_name": "Python 3 (ipykernel)",
   "language": "python",
   "name": "python3"
  },
  "language_info": {
   "codemirror_mode": {
    "name": "ipython",
    "version": 3
   },
   "file_extension": ".py",
   "mimetype": "text/x-python",
   "name": "python",
   "nbconvert_exporter": "python",
   "pygments_lexer": "ipython3",
   "version": "3.9.7"
  }
 },
 "nbformat": 4,
 "nbformat_minor": 2
}
